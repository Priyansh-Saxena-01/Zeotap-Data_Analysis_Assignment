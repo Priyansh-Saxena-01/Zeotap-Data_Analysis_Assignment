{
 "cells": [
  {
   "cell_type": "code",
   "execution_count": 2,
   "metadata": {},
   "outputs": [],
   "source": [
    "import pandas as pd\n",
    "import numpy as np\n",
    "from sklearn.metrics.pairwise import cosine_similarity\n",
    "from sklearn.preprocessing import StandardScaler\n",
    "from scipy.spatial.distance import cdist\n",
    "\n",
    "# Load the data\n",
    "customers_df = pd.read_csv('Customers.csv')\n",
    "transactions_df = pd.read_csv('Transactions.csv')\n",
    "products_df = pd.read_csv('Products.csv')"
   ]
  },
  {
   "cell_type": "code",
   "execution_count": 3,
   "metadata": {},
   "outputs": [],
   "source": [
    "# 1. Feature Engineering\n",
    "\n",
    "# Merge transactions with product information to get product categories\n",
    "transactions_with_products = pd.merge(transactions_df, products_df, on='ProductID')\n",
    "\n",
    "# Calculate total spend and transaction frequency per customer\n",
    "customer_transactions = transactions_with_products.groupby('CustomerID').agg(\n",
    "    total_spent=('TotalValue', 'sum'),\n",
    "    num_transactions=('TransactionID', 'nunique'),\n",
    "    avg_transaction_value=('TotalValue', 'mean')\n",
    ").reset_index()\n",
    "\n",
    "# Merge the customer profile data (CustomerID, Region) with transaction data\n",
    "customer_profile = pd.merge(customers_df[['CustomerID', 'Region']], customer_transactions, on='CustomerID')\n",
    "\n",
    "# One-hot encode 'Region' feature (optional)\n",
    "customer_profile = pd.get_dummies(customer_profile, columns=['Region'], drop_first=True)"
   ]
  },
  {
   "cell_type": "code",
   "execution_count": 4,
   "metadata": {},
   "outputs": [],
   "source": [
    "\n",
    "# Merge customer data with transaction data\n",
    "customer_profile = pd.merge(customers_df[['CustomerID', 'Region']], customer_transactions, on='CustomerID')\n",
    "\n",
    "# One-hot encode 'Region' feature (if you want to include region info)\n",
    "customer_profile = pd.get_dummies(customer_profile, columns=['Region'], drop_first=True)\n",
    "\n",
    "# 2. Standardize features (optional but often recommended for distance metrics)\n",
    "scaler = StandardScaler()\n",
    "features = ['total_spent', 'num_transactions', 'avg_transaction_value'] + [col for col in customer_profile.columns if 'Region' in col]\n",
    "customer_profile[features] = scaler.fit_transform(customer_profile[features])"
   ]
  },
  {
   "cell_type": "code",
   "execution_count": 5,
   "metadata": {},
   "outputs": [
    {
     "name": "stdout",
     "output_type": "stream",
     "text": [
      "{'C0001': [('C0137', 0.02207243237942135), ('C0152', 0.031486118833456055), ('C0107', 0.27065604383322567)], 'C0002': [('C0142', 0.4466386109682652), ('C0088', 0.506631079895442), ('C0186', 0.6879097802180525)], 'C0003': [('C0133', 0.18866119376403317), ('C0052', 0.2817395883219162), ('C0137', 0.5676188566833155)], 'C0004': [('C0113', 0.4121640008686923), ('C0108', 0.5425086204408527), ('C0012', 0.5660799258054712)], 'C0005': [('C0159', 0.05753123169168628), ('C0186', 0.4108727733600682), ('C0146', 0.5624411510831706)], 'C0006': [('C0158', 0.606576301183449), ('C0171', 0.6883055535442357), ('C0187', 0.756960196119244)], 'C0007': [('C0092', 0.6813057136076216), ('C0193', 0.6846642754607661), ('C0140', 0.6904936694671368)], 'C0008': [('C0109', 0.8610397272065794), ('C0139', 0.9752697198202058), ('C0098', 1.1052601001342437)], 'C0009': [('C0121', 0.513702341920517), ('C0198', 0.8390069138451481), ('C0010', 0.8439644490738267)], 'C0010': [('C0199', 0.31065299933224544), ('C0111', 0.49897631488595157), ('C0103', 0.6669241203734804)], 'C0011': [('C0107', 0.1065745847432392), ('C0048', 0.12150386763619242), ('C0152', 0.34574450974300885)], 'C0012': [('C0155', 0.11921267628408999), ('C0108', 0.3112852252674258), ('C0153', 0.5588729050482979)], 'C0013': [('C0087', 0.49099485769540974), ('C0155', 0.5064973043760048), ('C0104', 0.5741680975322498)], 'C0014': [('C0198', 0.8398964765513979), ('C0009', 0.9689007678074435), ('C0060', 1.003982210843361)], 'C0015': [('C0144', 0.32038986360857424), ('C0036', 0.6347666814538361), ('C0131', 0.6913810388053071)], 'C0016': [('C0183', 0.024312829475738592), ('C0067', 0.6130115700200638), ('C0026', 0.6810621749802234)], 'C0017': [('C0124', 0.5325791693495422), ('C0075', 0.788577656780821), ('C0179', 1.0947039288058027)], 'C0018': [('C0117', 0.6507911842271367), ('C0079', 0.7025297752553309), ('C0026', 0.86459964839381)], 'C0019': [('C0172', 0.014135596498079798), ('C0111', 0.48766660427430103), ('C0103', 0.7229695568135792)], 'C0020': [('C0144', 1.2436003177463086), ('C0042', 1.3228040851717757), ('C0176', 1.341895540806507)]}\n"
     ]
    }
   ],
   "source": [
    "\n",
    "# 3. Find the Top 3 Lookalikes for Each Customer (C0001 - C0020)\n",
    "\n",
    "lookalikes = {}\n",
    "\n",
    "for idx, customer_id in enumerate(customer_profile['CustomerID'][:20]):  # For customers C0001 to C0020\n",
    "    # Get the customer profile for this customer\n",
    "    current_customer_profile = customer_profile.iloc[idx][features].values\n",
    "\n",
    "    # Calculate Euclidean distance to all other customers (excluding self)\n",
    "    distances = []\n",
    "    for i, other_customer_id in enumerate(customer_profile['CustomerID']):\n",
    "        if customer_id != other_customer_id:\n",
    "            other_customer_profile = customer_profile.iloc[i][features].values\n",
    "            distance = np.linalg.norm(current_customer_profile - other_customer_profile)  # Euclidean distance\n",
    "            distances.append((other_customer_id, distance))\n",
    "\n",
    "    # Sort by distance and select the top 3 most similar customers\n",
    "    distances.sort(key=lambda x: x[1])  # Sort by distance (smaller distance is better)\n",
    "    top_3_similar = distances[:3]\n",
    "\n",
    "    # Add the top 3 similar customers to the lookalikes dictionary\n",
    "    lookalikes[customer_id] = top_3_similar\n",
    "\n",
    "# Output the lookalikes dictionary for verification\n",
    "print(lookalikes)\n"
   ]
  },
  {
   "cell_type": "code",
   "execution_count": 6,
   "metadata": {},
   "outputs": [
    {
     "name": "stdout",
     "output_type": "stream",
     "text": [
      "Lookalike.csv generated successfully.\n"
     ]
    }
   ],
   "source": [
    "# Prepare data for CSV\n",
    "csv_data = []\n",
    "\n",
    "for customer_id, similar_customers in lookalikes.items():\n",
    "    # Convert the list of tuples into a string format\n",
    "    lookalike_pairs = str(similar_customers)  # Turn the list into a string that can be saved in one cell\n",
    "    csv_data.append([customer_id, lookalike_pairs])\n",
    "\n",
    "# Create a DataFrame from the prepared data\n",
    "lookalike_df = pd.DataFrame(csv_data, columns=['cust_id', 'lookalike_pairs'])\n",
    "\n",
    "# Save the DataFrame to CSV\n",
    "lookalike_df.to_csv('Priyansh_Saxena_Lookalike', index=False)\n",
    "\n",
    "print(\"Lookalike.csv generated successfully.\")"
   ]
  }
 ],
 "metadata": {
  "kernelspec": {
   "display_name": "Python 3",
   "language": "python",
   "name": "python3"
  },
  "language_info": {
   "codemirror_mode": {
    "name": "ipython",
    "version": 3
   },
   "file_extension": ".py",
   "mimetype": "text/x-python",
   "name": "python",
   "nbconvert_exporter": "python",
   "pygments_lexer": "ipython3",
   "version": "3.11.1"
  }
 },
 "nbformat": 4,
 "nbformat_minor": 2
}
