{
 "cells": [
  {
   "cell_type": "code",
   "execution_count": 1,
   "metadata": {},
   "outputs": [],
   "source": [
    "import pandas as pd\n",
    "import numpy as np\n",
    "from sklearn.preprocessing import StandardScaler\n",
    "from sklearn.cluster import KMeans\n",
    "from sklearn.decomposition import PCA\n",
    "from sklearn.metrics import davies_bouldin_score\n",
    "import matplotlib.pyplot as plt\n",
    "import seaborn as sns\n",
    "\n",
    "# Load Data\n",
    "customers_df = pd.read_csv('Customers.csv')\n",
    "transactions_df = pd.read_csv('Transactions.csv')\n",
    "\n",
    "\n"
   ]
  },
  {
   "cell_type": "code",
   "execution_count": 2,
   "metadata": {},
   "outputs": [],
   "source": [
    "# 1. Data Preprocessing - Merging customer profile and transaction data\n",
    "merged_df = pd.merge(transactions_df, customers_df, on='CustomerID', how='inner')\n",
    "\n",
    "# 2. Feature Engineering: Creating relevant features from transaction data\n",
    "customer_metrics = merged_df.groupby('CustomerID').agg(\n",
    "    total_spent=('TotalValue', 'sum'),\n",
    "    transaction_count=('TransactionID', 'count')\n",
    ").reset_index()\n",
    "\n",
    "# Adding customer profile data (region, signup date)\n",
    "customer_profile = customers_df[['CustomerID', 'Region']]\n",
    "customer_data = pd.merge(customer_metrics, customer_profile, on='CustomerID', how='left')"
   ]
  },
  {
   "cell_type": "code",
   "execution_count": null,
   "metadata": {},
   "outputs": [],
   "source": [
    "\n",
    "# 3. Convert categorical variable ('Region') to dummy variables (one-hot encoding)\n",
    "customer_data = pd.get_dummies(customer_data, columns=['Region'], drop_first=True)\n",
    "\n",
    "# 4. Normalize data (standard scaling)\n",
    "scaler = StandardScaler()\n",
    "features = ['total_spent', 'transaction_count'] + [col for col in customer_data.columns if 'Region_' in col]\n",
    "customer_data_scaled = scaler.fit_transform(customer_data[features])\n",
    "\n",
    "# 5. Clustering using K-Means (with 2 to 10 clusters)\n",
    "db_indexes = []\n",
    "inertia_values = []\n",
    "for k in range(2, 11):\n",
    "    kmeans = KMeans(n_clusters=k, random_state=42, n_init=10)  # Added n_init=10\n",
    "    kmeans.fit(customer_data_scaled)\n",
    "    \n",
    "    # Davies-Bouldin Index\n",
    "    db_index = davies_bouldin_score(customer_data_scaled, kmeans.labels_)\n",
    "    db_indexes.append(db_index)\n",
    "    \n",
    "    # Store inertia (optional for evaluation)\n",
    "    inertia_values.append(kmeans.inertia_)"
   ]
  },
  {
   "cell_type": "code",
   "execution_count": null,
   "metadata": {},
   "outputs": [],
   "source": [
    "# Find the best k based on Davies-Bouldin Index (lower is better)\n",
    "best_k = np.argmin(db_indexes) + 2  # Adding 2 because range starts from 2\n",
    "print(f\"Best k based on Davies-Bouldin Index: {best_k}\")\n",
    "\n",
    "# Fit KMeans with the best k\n",
    "kmeans_final = KMeans(n_clusters=best_k, random_state=42, n_init=10)  # Added n_init=10\n",
    "customer_data['Cluster'] = kmeans_final.fit_predict(customer_data_scaled)\n",
    "\n",
    "# 6. PCA for visualization (reduce to 2D)\n",
    "pca = PCA(n_components=2)\n",
    "pca_components = pca.fit_transform(customer_data_scaled)\n",
    "customer_data['PCA1'], customer_data['PCA2'] = pca_components[:, 0], pca_components[:, 1]"
   ]
  },
  {
   "cell_type": "code",
   "execution_count": null,
   "metadata": {},
   "outputs": [],
   "source": [
    "# 7. Plotting the clusters\n",
    "plt.figure(figsize=(10, 8))\n",
    "sns.scatterplot(x='PCA1', y='PCA2', hue='Cluster', data=customer_data, palette='viridis', s=100, alpha=0.7)\n",
    "plt.title(f'Customer Segmentation (k={best_k}) using PCA')\n",
    "plt.xlabel('PCA Component 1')\n",
    "plt.ylabel('PCA Component 2')\n",
    "plt.legend(title='Cluster')\n",
    "plt.show()\n",
    "\n"
   ]
  },
  {
   "cell_type": "code",
   "execution_count": null,
   "metadata": {},
   "outputs": [],
   "source": [
    "# 8. Optional: Display the Davies-Bouldin Index and Inertia values for each k\n",
    "plt.figure(figsize=(12, 6))\n",
    "plt.subplot(1, 2, 1)\n",
    "plt.plot(range(2, 11), db_indexes, marker='o')\n",
    "plt.title('Davies-Bouldin Index for Different k')\n",
    "plt.xlabel('k (Number of Clusters)')\n",
    "plt.ylabel('Davies-Bouldin Index')\n",
    "\n",
    "plt.subplot(1, 2, 2)\n",
    "plt.plot(range(2, 11), inertia_values, marker='o')\n",
    "plt.title('Inertia for Different k')\n",
    "plt.xlabel('k (Number of Clusters)')\n",
    "plt.ylabel('Inertia')\n",
    "plt.tight_layout()\n",
    "plt.show()"
   ]
  }
 ],
 "metadata": {
  "kernelspec": {
   "display_name": "Python 3",
   "language": "python",
   "name": "python3"
  },
  "language_info": {
   "codemirror_mode": {
    "name": "ipython",
    "version": 3
   },
   "file_extension": ".py",
   "mimetype": "text/x-python",
   "name": "python",
   "nbconvert_exporter": "python",
   "pygments_lexer": "ipython3",
   "version": "3.11.1"
  }
 },
 "nbformat": 4,
 "nbformat_minor": 2
}
